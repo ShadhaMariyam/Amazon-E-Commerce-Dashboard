{
  "nbformat": 4,
  "nbformat_minor": 0,
  "metadata": {
    "colab": {
      "provenance": []
    },
    "kernelspec": {
      "name": "python3",
      "display_name": "Python 3"
    },
    "language_info": {
      "name": "python"
    }
  },
  "cells": [
    {
      "cell_type": "code",
      "source": [
        "!pip install --upgrade pandas"
      ],
      "metadata": {
        "colab": {
          "base_uri": "https://localhost:8080/"
        },
        "id": "cA_0Z4aSzyFG",
        "outputId": "4a14e33b-5643-4e61-d145-71236c423f8e"
      },
      "execution_count": null,
      "outputs": [
        {
          "output_type": "stream",
          "name": "stdout",
          "text": [
            "Requirement already satisfied: pandas in /usr/local/lib/python3.10/dist-packages (2.2.2)\n",
            "Requirement already satisfied: numpy>=1.22.4 in /usr/local/lib/python3.10/dist-packages (from pandas) (1.25.2)\n",
            "Requirement already satisfied: python-dateutil>=2.8.2 in /usr/local/lib/python3.10/dist-packages (from pandas) (2.8.2)\n",
            "Requirement already satisfied: pytz>=2020.1 in /usr/local/lib/python3.10/dist-packages (from pandas) (2023.4)\n",
            "Requirement already satisfied: tzdata>=2022.7 in /usr/local/lib/python3.10/dist-packages (from pandas) (2024.1)\n",
            "Requirement already satisfied: six>=1.5 in /usr/local/lib/python3.10/dist-packages (from python-dateutil>=2.8.2->pandas) (1.16.0)\n"
          ]
        }
      ]
    },
    {
      "cell_type": "code",
      "execution_count": null,
      "metadata": {
        "id": "ZvTHR4HDOTRi"
      },
      "outputs": [],
      "source": [
        "#import the required libraries\n",
        "import numpy as np\n",
        "import pandas as pd\n",
        "import seaborn as sns\n",
        "import matplotlib.ticker as mtick\n",
        "import matplotlib.pyplot as plt"
      ]
    },
    {
      "cell_type": "code",
      "source": [
        "# Read the CSV file while skipping bad lines\n",
        "\n",
        "sales_report_df = pd.read_csv('/content/Amazon Sale Report csv.csv',index_col='Order ID')"
      ],
      "metadata": {
        "id": "BhW5S2bXsca8"
      },
      "execution_count": null,
      "outputs": []
    },
    {
      "cell_type": "code",
      "source": [
        "sales_report_df.head()"
      ],
      "metadata": {
        "id": "xMRIRnC0vskm",
        "colab": {
          "base_uri": "https://localhost:8080/",
          "height": 582
        },
        "outputId": "df49a8b3-4c69-45c3-9e95-9c302d6d5371"
      },
      "execution_count": null,
      "outputs": [
        {
          "output_type": "execute_result",
          "data": {
            "text/plain": [
              "                         Date                        Status Fulfilment  \\\n",
              "Order ID                                                                 \n",
              "405-8078784-5731545  04-30-22                     Cancelled   Merchant   \n",
              "171-9198151-1101146  04-30-22  Shipped - Delivered to Buyer   Merchant   \n",
              "404-0687676-7273146  04-30-22                       Shipped     Amazon   \n",
              "403-9615377-8133951  04-30-22                     Cancelled   Merchant   \n",
              "407-1069790-7240320  04-30-22                       Shipped     Amazon   \n",
              "\n",
              "                    Sales Channel  ship-service-level    Style  \\\n",
              "Order ID                                                         \n",
              "405-8078784-5731545      Amazon.in           Standard   SET389   \n",
              "171-9198151-1101146      Amazon.in           Standard  JNE3781   \n",
              "404-0687676-7273146      Amazon.in          Expedited  JNE3371   \n",
              "403-9615377-8133951      Amazon.in           Standard    J0341   \n",
              "407-1069790-7240320      Amazon.in          Expedited  JNE3671   \n",
              "\n",
              "                                 SKU       Category Size        ASIN  ... Qty  \\\n",
              "Order ID                                                              ...       \n",
              "405-8078784-5731545   SET389-KR-NP-S            Set    S  B09KXVBD7Z  ...   0   \n",
              "171-9198151-1101146  JNE3781-KR-XXXL          kurta  3XL  B09K3WFS32  ...   1   \n",
              "404-0687676-7273146    JNE3371-KR-XL          kurta   XL  B07WV4JV4D  ...   1   \n",
              "403-9615377-8133951       J0341-DR-L  Western Dress    L  B099NRCT7B  ...   0   \n",
              "407-1069790-7240320  JNE3671-TU-XXXL            Top  3XL  B098714BZP  ...   1   \n",
              "\n",
              "                     currency  Amount    ship-city   ship-state  \\\n",
              "Order ID                                                          \n",
              "405-8078784-5731545       INR  647.62       MUMBAI  MAHARASHTRA   \n",
              "171-9198151-1101146       INR  406.00    BENGALURU    KARNATAKA   \n",
              "404-0687676-7273146       INR  329.00  NAVI MUMBAI  MAHARASHTRA   \n",
              "403-9615377-8133951       INR  753.33   PUDUCHERRY   PUDUCHERRY   \n",
              "407-1069790-7240320       INR  574.00      CHENNAI   TAMIL NADU   \n",
              "\n",
              "                    ship-postal-code  ship-country  \\\n",
              "Order ID                                             \n",
              "405-8078784-5731545         400081.0            IN   \n",
              "171-9198151-1101146         560085.0            IN   \n",
              "404-0687676-7273146         410210.0            IN   \n",
              "403-9615377-8133951         605008.0            IN   \n",
              "407-1069790-7240320         600073.0            IN   \n",
              "\n",
              "                                                         promotion-ids    B2B  \\\n",
              "Order ID                                                                        \n",
              "405-8078784-5731545                                                NaN  False   \n",
              "171-9198151-1101146  Amazon PLCC Free-Financing Universal Merchant ...  False   \n",
              "404-0687676-7273146       IN Core Free Shipping 2015/04/08 23-48-5-108   True   \n",
              "403-9615377-8133951                                                NaN  False   \n",
              "407-1069790-7240320                                                NaN  False   \n",
              "\n",
              "                     fulfilled-by  \n",
              "Order ID                           \n",
              "405-8078784-5731545     Easy Ship  \n",
              "171-9198151-1101146     Easy Ship  \n",
              "404-0687676-7273146           NaN  \n",
              "403-9615377-8133951     Easy Ship  \n",
              "407-1069790-7240320           NaN  \n",
              "\n",
              "[5 rows x 21 columns]"
            ],
            "text/html": [
              "\n",
              "  <div id=\"df-758d897e-e746-4648-b788-0858348aa53f\" class=\"colab-df-container\">\n",
              "    <div>\n",
              "<style scoped>\n",
              "    .dataframe tbody tr th:only-of-type {\n",
              "        vertical-align: middle;\n",
              "    }\n",
              "\n",
              "    .dataframe tbody tr th {\n",
              "        vertical-align: top;\n",
              "    }\n",
              "\n",
              "    .dataframe thead th {\n",
              "        text-align: right;\n",
              "    }\n",
              "</style>\n",
              "<table border=\"1\" class=\"dataframe\">\n",
              "  <thead>\n",
              "    <tr style=\"text-align: right;\">\n",
              "      <th></th>\n",
              "      <th>Date</th>\n",
              "      <th>Status</th>\n",
              "      <th>Fulfilment</th>\n",
              "      <th>Sales Channel</th>\n",
              "      <th>ship-service-level</th>\n",
              "      <th>Style</th>\n",
              "      <th>SKU</th>\n",
              "      <th>Category</th>\n",
              "      <th>Size</th>\n",
              "      <th>ASIN</th>\n",
              "      <th>...</th>\n",
              "      <th>Qty</th>\n",
              "      <th>currency</th>\n",
              "      <th>Amount</th>\n",
              "      <th>ship-city</th>\n",
              "      <th>ship-state</th>\n",
              "      <th>ship-postal-code</th>\n",
              "      <th>ship-country</th>\n",
              "      <th>promotion-ids</th>\n",
              "      <th>B2B</th>\n",
              "      <th>fulfilled-by</th>\n",
              "    </tr>\n",
              "    <tr>\n",
              "      <th>Order ID</th>\n",
              "      <th></th>\n",
              "      <th></th>\n",
              "      <th></th>\n",
              "      <th></th>\n",
              "      <th></th>\n",
              "      <th></th>\n",
              "      <th></th>\n",
              "      <th></th>\n",
              "      <th></th>\n",
              "      <th></th>\n",
              "      <th></th>\n",
              "      <th></th>\n",
              "      <th></th>\n",
              "      <th></th>\n",
              "      <th></th>\n",
              "      <th></th>\n",
              "      <th></th>\n",
              "      <th></th>\n",
              "      <th></th>\n",
              "      <th></th>\n",
              "      <th></th>\n",
              "    </tr>\n",
              "  </thead>\n",
              "  <tbody>\n",
              "    <tr>\n",
              "      <th>405-8078784-5731545</th>\n",
              "      <td>04-30-22</td>\n",
              "      <td>Cancelled</td>\n",
              "      <td>Merchant</td>\n",
              "      <td>Amazon.in</td>\n",
              "      <td>Standard</td>\n",
              "      <td>SET389</td>\n",
              "      <td>SET389-KR-NP-S</td>\n",
              "      <td>Set</td>\n",
              "      <td>S</td>\n",
              "      <td>B09KXVBD7Z</td>\n",
              "      <td>...</td>\n",
              "      <td>0</td>\n",
              "      <td>INR</td>\n",
              "      <td>647.62</td>\n",
              "      <td>MUMBAI</td>\n",
              "      <td>MAHARASHTRA</td>\n",
              "      <td>400081.0</td>\n",
              "      <td>IN</td>\n",
              "      <td>NaN</td>\n",
              "      <td>False</td>\n",
              "      <td>Easy Ship</td>\n",
              "    </tr>\n",
              "    <tr>\n",
              "      <th>171-9198151-1101146</th>\n",
              "      <td>04-30-22</td>\n",
              "      <td>Shipped - Delivered to Buyer</td>\n",
              "      <td>Merchant</td>\n",
              "      <td>Amazon.in</td>\n",
              "      <td>Standard</td>\n",
              "      <td>JNE3781</td>\n",
              "      <td>JNE3781-KR-XXXL</td>\n",
              "      <td>kurta</td>\n",
              "      <td>3XL</td>\n",
              "      <td>B09K3WFS32</td>\n",
              "      <td>...</td>\n",
              "      <td>1</td>\n",
              "      <td>INR</td>\n",
              "      <td>406.00</td>\n",
              "      <td>BENGALURU</td>\n",
              "      <td>KARNATAKA</td>\n",
              "      <td>560085.0</td>\n",
              "      <td>IN</td>\n",
              "      <td>Amazon PLCC Free-Financing Universal Merchant ...</td>\n",
              "      <td>False</td>\n",
              "      <td>Easy Ship</td>\n",
              "    </tr>\n",
              "    <tr>\n",
              "      <th>404-0687676-7273146</th>\n",
              "      <td>04-30-22</td>\n",
              "      <td>Shipped</td>\n",
              "      <td>Amazon</td>\n",
              "      <td>Amazon.in</td>\n",
              "      <td>Expedited</td>\n",
              "      <td>JNE3371</td>\n",
              "      <td>JNE3371-KR-XL</td>\n",
              "      <td>kurta</td>\n",
              "      <td>XL</td>\n",
              "      <td>B07WV4JV4D</td>\n",
              "      <td>...</td>\n",
              "      <td>1</td>\n",
              "      <td>INR</td>\n",
              "      <td>329.00</td>\n",
              "      <td>NAVI MUMBAI</td>\n",
              "      <td>MAHARASHTRA</td>\n",
              "      <td>410210.0</td>\n",
              "      <td>IN</td>\n",
              "      <td>IN Core Free Shipping 2015/04/08 23-48-5-108</td>\n",
              "      <td>True</td>\n",
              "      <td>NaN</td>\n",
              "    </tr>\n",
              "    <tr>\n",
              "      <th>403-9615377-8133951</th>\n",
              "      <td>04-30-22</td>\n",
              "      <td>Cancelled</td>\n",
              "      <td>Merchant</td>\n",
              "      <td>Amazon.in</td>\n",
              "      <td>Standard</td>\n",
              "      <td>J0341</td>\n",
              "      <td>J0341-DR-L</td>\n",
              "      <td>Western Dress</td>\n",
              "      <td>L</td>\n",
              "      <td>B099NRCT7B</td>\n",
              "      <td>...</td>\n",
              "      <td>0</td>\n",
              "      <td>INR</td>\n",
              "      <td>753.33</td>\n",
              "      <td>PUDUCHERRY</td>\n",
              "      <td>PUDUCHERRY</td>\n",
              "      <td>605008.0</td>\n",
              "      <td>IN</td>\n",
              "      <td>NaN</td>\n",
              "      <td>False</td>\n",
              "      <td>Easy Ship</td>\n",
              "    </tr>\n",
              "    <tr>\n",
              "      <th>407-1069790-7240320</th>\n",
              "      <td>04-30-22</td>\n",
              "      <td>Shipped</td>\n",
              "      <td>Amazon</td>\n",
              "      <td>Amazon.in</td>\n",
              "      <td>Expedited</td>\n",
              "      <td>JNE3671</td>\n",
              "      <td>JNE3671-TU-XXXL</td>\n",
              "      <td>Top</td>\n",
              "      <td>3XL</td>\n",
              "      <td>B098714BZP</td>\n",
              "      <td>...</td>\n",
              "      <td>1</td>\n",
              "      <td>INR</td>\n",
              "      <td>574.00</td>\n",
              "      <td>CHENNAI</td>\n",
              "      <td>TAMIL NADU</td>\n",
              "      <td>600073.0</td>\n",
              "      <td>IN</td>\n",
              "      <td>NaN</td>\n",
              "      <td>False</td>\n",
              "      <td>NaN</td>\n",
              "    </tr>\n",
              "  </tbody>\n",
              "</table>\n",
              "<p>5 rows × 21 columns</p>\n",
              "</div>\n",
              "    <div class=\"colab-df-buttons\">\n",
              "\n",
              "  <div class=\"colab-df-container\">\n",
              "    <button class=\"colab-df-convert\" onclick=\"convertToInteractive('df-758d897e-e746-4648-b788-0858348aa53f')\"\n",
              "            title=\"Convert this dataframe to an interactive table.\"\n",
              "            style=\"display:none;\">\n",
              "\n",
              "  <svg xmlns=\"http://www.w3.org/2000/svg\" height=\"24px\" viewBox=\"0 -960 960 960\">\n",
              "    <path d=\"M120-120v-720h720v720H120Zm60-500h600v-160H180v160Zm220 220h160v-160H400v160Zm0 220h160v-160H400v160ZM180-400h160v-160H180v160Zm440 0h160v-160H620v160ZM180-180h160v-160H180v160Zm440 0h160v-160H620v160Z\"/>\n",
              "  </svg>\n",
              "    </button>\n",
              "\n",
              "  <style>\n",
              "    .colab-df-container {\n",
              "      display:flex;\n",
              "      gap: 12px;\n",
              "    }\n",
              "\n",
              "    .colab-df-convert {\n",
              "      background-color: #E8F0FE;\n",
              "      border: none;\n",
              "      border-radius: 50%;\n",
              "      cursor: pointer;\n",
              "      display: none;\n",
              "      fill: #1967D2;\n",
              "      height: 32px;\n",
              "      padding: 0 0 0 0;\n",
              "      width: 32px;\n",
              "    }\n",
              "\n",
              "    .colab-df-convert:hover {\n",
              "      background-color: #E2EBFA;\n",
              "      box-shadow: 0px 1px 2px rgba(60, 64, 67, 0.3), 0px 1px 3px 1px rgba(60, 64, 67, 0.15);\n",
              "      fill: #174EA6;\n",
              "    }\n",
              "\n",
              "    .colab-df-buttons div {\n",
              "      margin-bottom: 4px;\n",
              "    }\n",
              "\n",
              "    [theme=dark] .colab-df-convert {\n",
              "      background-color: #3B4455;\n",
              "      fill: #D2E3FC;\n",
              "    }\n",
              "\n",
              "    [theme=dark] .colab-df-convert:hover {\n",
              "      background-color: #434B5C;\n",
              "      box-shadow: 0px 1px 3px 1px rgba(0, 0, 0, 0.15);\n",
              "      filter: drop-shadow(0px 1px 2px rgba(0, 0, 0, 0.3));\n",
              "      fill: #FFFFFF;\n",
              "    }\n",
              "  </style>\n",
              "\n",
              "    <script>\n",
              "      const buttonEl =\n",
              "        document.querySelector('#df-758d897e-e746-4648-b788-0858348aa53f button.colab-df-convert');\n",
              "      buttonEl.style.display =\n",
              "        google.colab.kernel.accessAllowed ? 'block' : 'none';\n",
              "\n",
              "      async function convertToInteractive(key) {\n",
              "        const element = document.querySelector('#df-758d897e-e746-4648-b788-0858348aa53f');\n",
              "        const dataTable =\n",
              "          await google.colab.kernel.invokeFunction('convertToInteractive',\n",
              "                                                    [key], {});\n",
              "        if (!dataTable) return;\n",
              "\n",
              "        const docLinkHtml = 'Like what you see? Visit the ' +\n",
              "          '<a target=\"_blank\" href=https://colab.research.google.com/notebooks/data_table.ipynb>data table notebook</a>'\n",
              "          + ' to learn more about interactive tables.';\n",
              "        element.innerHTML = '';\n",
              "        dataTable['output_type'] = 'display_data';\n",
              "        await google.colab.output.renderOutput(dataTable, element);\n",
              "        const docLink = document.createElement('div');\n",
              "        docLink.innerHTML = docLinkHtml;\n",
              "        element.appendChild(docLink);\n",
              "      }\n",
              "    </script>\n",
              "  </div>\n",
              "\n",
              "\n",
              "<div id=\"df-6202a45a-d0f0-4b7e-a040-aabc573a4ffa\">\n",
              "  <button class=\"colab-df-quickchart\" onclick=\"quickchart('df-6202a45a-d0f0-4b7e-a040-aabc573a4ffa')\"\n",
              "            title=\"Suggest charts\"\n",
              "            style=\"display:none;\">\n",
              "\n",
              "<svg xmlns=\"http://www.w3.org/2000/svg\" height=\"24px\"viewBox=\"0 0 24 24\"\n",
              "     width=\"24px\">\n",
              "    <g>\n",
              "        <path d=\"M19 3H5c-1.1 0-2 .9-2 2v14c0 1.1.9 2 2 2h14c1.1 0 2-.9 2-2V5c0-1.1-.9-2-2-2zM9 17H7v-7h2v7zm4 0h-2V7h2v10zm4 0h-2v-4h2v4z\"/>\n",
              "    </g>\n",
              "</svg>\n",
              "  </button>\n",
              "\n",
              "<style>\n",
              "  .colab-df-quickchart {\n",
              "      --bg-color: #E8F0FE;\n",
              "      --fill-color: #1967D2;\n",
              "      --hover-bg-color: #E2EBFA;\n",
              "      --hover-fill-color: #174EA6;\n",
              "      --disabled-fill-color: #AAA;\n",
              "      --disabled-bg-color: #DDD;\n",
              "  }\n",
              "\n",
              "  [theme=dark] .colab-df-quickchart {\n",
              "      --bg-color: #3B4455;\n",
              "      --fill-color: #D2E3FC;\n",
              "      --hover-bg-color: #434B5C;\n",
              "      --hover-fill-color: #FFFFFF;\n",
              "      --disabled-bg-color: #3B4455;\n",
              "      --disabled-fill-color: #666;\n",
              "  }\n",
              "\n",
              "  .colab-df-quickchart {\n",
              "    background-color: var(--bg-color);\n",
              "    border: none;\n",
              "    border-radius: 50%;\n",
              "    cursor: pointer;\n",
              "    display: none;\n",
              "    fill: var(--fill-color);\n",
              "    height: 32px;\n",
              "    padding: 0;\n",
              "    width: 32px;\n",
              "  }\n",
              "\n",
              "  .colab-df-quickchart:hover {\n",
              "    background-color: var(--hover-bg-color);\n",
              "    box-shadow: 0 1px 2px rgba(60, 64, 67, 0.3), 0 1px 3px 1px rgba(60, 64, 67, 0.15);\n",
              "    fill: var(--button-hover-fill-color);\n",
              "  }\n",
              "\n",
              "  .colab-df-quickchart-complete:disabled,\n",
              "  .colab-df-quickchart-complete:disabled:hover {\n",
              "    background-color: var(--disabled-bg-color);\n",
              "    fill: var(--disabled-fill-color);\n",
              "    box-shadow: none;\n",
              "  }\n",
              "\n",
              "  .colab-df-spinner {\n",
              "    border: 2px solid var(--fill-color);\n",
              "    border-color: transparent;\n",
              "    border-bottom-color: var(--fill-color);\n",
              "    animation:\n",
              "      spin 1s steps(1) infinite;\n",
              "  }\n",
              "\n",
              "  @keyframes spin {\n",
              "    0% {\n",
              "      border-color: transparent;\n",
              "      border-bottom-color: var(--fill-color);\n",
              "      border-left-color: var(--fill-color);\n",
              "    }\n",
              "    20% {\n",
              "      border-color: transparent;\n",
              "      border-left-color: var(--fill-color);\n",
              "      border-top-color: var(--fill-color);\n",
              "    }\n",
              "    30% {\n",
              "      border-color: transparent;\n",
              "      border-left-color: var(--fill-color);\n",
              "      border-top-color: var(--fill-color);\n",
              "      border-right-color: var(--fill-color);\n",
              "    }\n",
              "    40% {\n",
              "      border-color: transparent;\n",
              "      border-right-color: var(--fill-color);\n",
              "      border-top-color: var(--fill-color);\n",
              "    }\n",
              "    60% {\n",
              "      border-color: transparent;\n",
              "      border-right-color: var(--fill-color);\n",
              "    }\n",
              "    80% {\n",
              "      border-color: transparent;\n",
              "      border-right-color: var(--fill-color);\n",
              "      border-bottom-color: var(--fill-color);\n",
              "    }\n",
              "    90% {\n",
              "      border-color: transparent;\n",
              "      border-bottom-color: var(--fill-color);\n",
              "    }\n",
              "  }\n",
              "</style>\n",
              "\n",
              "  <script>\n",
              "    async function quickchart(key) {\n",
              "      const quickchartButtonEl =\n",
              "        document.querySelector('#' + key + ' button');\n",
              "      quickchartButtonEl.disabled = true;  // To prevent multiple clicks.\n",
              "      quickchartButtonEl.classList.add('colab-df-spinner');\n",
              "      try {\n",
              "        const charts = await google.colab.kernel.invokeFunction(\n",
              "            'suggestCharts', [key], {});\n",
              "      } catch (error) {\n",
              "        console.error('Error during call to suggestCharts:', error);\n",
              "      }\n",
              "      quickchartButtonEl.classList.remove('colab-df-spinner');\n",
              "      quickchartButtonEl.classList.add('colab-df-quickchart-complete');\n",
              "    }\n",
              "    (() => {\n",
              "      let quickchartButtonEl =\n",
              "        document.querySelector('#df-6202a45a-d0f0-4b7e-a040-aabc573a4ffa button');\n",
              "      quickchartButtonEl.style.display =\n",
              "        google.colab.kernel.accessAllowed ? 'block' : 'none';\n",
              "    })();\n",
              "  </script>\n",
              "</div>\n",
              "\n",
              "    </div>\n",
              "  </div>\n"
            ],
            "application/vnd.google.colaboratory.intrinsic+json": {
              "type": "dataframe",
              "variable_name": "sales_report_df"
            }
          },
          "metadata": {},
          "execution_count": 3
        }
      ]
    },
    {
      "cell_type": "code",
      "source": [
        "sales_report_df.tail()"
      ],
      "metadata": {
        "colab": {
          "base_uri": "https://localhost:8080/",
          "height": 616
        },
        "id": "ycSBgNn3yt5V",
        "outputId": "977cc94c-aaba-40d9-b12c-2310356b2e56"
      },
      "execution_count": null,
      "outputs": [
        {
          "output_type": "execute_result",
          "data": {
            "text/plain": [
              "                         Date   Status Fulfilment Sales Channel   \\\n",
              "Order ID                                                           \n",
              "406-6001380-7673107  05-31-22  Shipped     Amazon      Amazon.in   \n",
              "402-9551604-7544318  05-31-22  Shipped     Amazon      Amazon.in   \n",
              "407-9547469-3152358  05-31-22  Shipped     Amazon      Amazon.in   \n",
              "402-6184140-0545956  05-31-22  Shipped     Amazon      Amazon.in   \n",
              "408-7436540-8728312  05-31-22  Shipped     Amazon      Amazon.in   \n",
              "\n",
              "                    ship-service-level    Style             SKU  \\\n",
              "Order ID                                                          \n",
              "406-6001380-7673107          Expedited  JNE3697   JNE3697-KR-XL   \n",
              "402-9551604-7544318          Expedited   SET401  SET401-KR-NP-M   \n",
              "407-9547469-3152358          Expedited    J0157    J0157-DR-XXL   \n",
              "402-6184140-0545956          Expedited    J0012    J0012-SKD-XS   \n",
              "408-7436540-8728312          Expedited    J0003     J0003-SET-S   \n",
              "\n",
              "                          Category Size        ASIN  ... Qty  currency  \\\n",
              "Order ID                                             ...                 \n",
              "406-6001380-7673107          kurta   XL  B098112V2V  ...   1       INR   \n",
              "402-9551604-7544318            Set    M  B09VC6KHX8  ...   1       INR   \n",
              "407-9547469-3152358  Western Dress  XXL  B0982YZ51B  ...   1       INR   \n",
              "402-6184140-0545956            Set   XS  B0894Y2NJQ  ...   1       INR   \n",
              "408-7436540-8728312            Set    S  B0894X27FC  ...   1       INR   \n",
              "\n",
              "                     Amount  ship-city    ship-state ship-postal-code  \\\n",
              "Order ID                                                                \n",
              "406-6001380-7673107   517.0  HYDERABAD     TELANGANA         500013.0   \n",
              "402-9551604-7544318   999.0   GURUGRAM       HARYANA         122004.0   \n",
              "407-9547469-3152358   690.0  HYDERABAD     TELANGANA         500049.0   \n",
              "402-6184140-0545956  1199.0      Halol       Gujarat         389350.0   \n",
              "408-7436540-8728312   696.0     Raipur  CHHATTISGARH         492014.0   \n",
              "\n",
              "                     ship-country  \\\n",
              "Order ID                            \n",
              "406-6001380-7673107            IN   \n",
              "402-9551604-7544318            IN   \n",
              "407-9547469-3152358            IN   \n",
              "402-6184140-0545956            IN   \n",
              "408-7436540-8728312            IN   \n",
              "\n",
              "                                                    promotion-ids    B2B  \\\n",
              "Order ID                                                                   \n",
              "406-6001380-7673107                                           NaN  False   \n",
              "402-9551604-7544318  IN Core Free Shipping 2015/04/08 23-48-5-108  False   \n",
              "407-9547469-3152358                                           NaN  False   \n",
              "402-6184140-0545956  IN Core Free Shipping 2015/04/08 23-48-5-108  False   \n",
              "408-7436540-8728312  IN Core Free Shipping 2015/04/08 23-48-5-108  False   \n",
              "\n",
              "                     fulfilled-by  \n",
              "Order ID                           \n",
              "406-6001380-7673107           NaN  \n",
              "402-9551604-7544318           NaN  \n",
              "407-9547469-3152358           NaN  \n",
              "402-6184140-0545956           NaN  \n",
              "408-7436540-8728312           NaN  \n",
              "\n",
              "[5 rows x 21 columns]"
            ],
            "text/html": [
              "\n",
              "  <div id=\"df-3325815a-56c2-433f-ba0a-59b7bf8910a7\" class=\"colab-df-container\">\n",
              "    <div>\n",
              "<style scoped>\n",
              "    .dataframe tbody tr th:only-of-type {\n",
              "        vertical-align: middle;\n",
              "    }\n",
              "\n",
              "    .dataframe tbody tr th {\n",
              "        vertical-align: top;\n",
              "    }\n",
              "\n",
              "    .dataframe thead th {\n",
              "        text-align: right;\n",
              "    }\n",
              "</style>\n",
              "<table border=\"1\" class=\"dataframe\">\n",
              "  <thead>\n",
              "    <tr style=\"text-align: right;\">\n",
              "      <th></th>\n",
              "      <th>Date</th>\n",
              "      <th>Status</th>\n",
              "      <th>Fulfilment</th>\n",
              "      <th>Sales Channel</th>\n",
              "      <th>ship-service-level</th>\n",
              "      <th>Style</th>\n",
              "      <th>SKU</th>\n",
              "      <th>Category</th>\n",
              "      <th>Size</th>\n",
              "      <th>ASIN</th>\n",
              "      <th>...</th>\n",
              "      <th>Qty</th>\n",
              "      <th>currency</th>\n",
              "      <th>Amount</th>\n",
              "      <th>ship-city</th>\n",
              "      <th>ship-state</th>\n",
              "      <th>ship-postal-code</th>\n",
              "      <th>ship-country</th>\n",
              "      <th>promotion-ids</th>\n",
              "      <th>B2B</th>\n",
              "      <th>fulfilled-by</th>\n",
              "    </tr>\n",
              "    <tr>\n",
              "      <th>Order ID</th>\n",
              "      <th></th>\n",
              "      <th></th>\n",
              "      <th></th>\n",
              "      <th></th>\n",
              "      <th></th>\n",
              "      <th></th>\n",
              "      <th></th>\n",
              "      <th></th>\n",
              "      <th></th>\n",
              "      <th></th>\n",
              "      <th></th>\n",
              "      <th></th>\n",
              "      <th></th>\n",
              "      <th></th>\n",
              "      <th></th>\n",
              "      <th></th>\n",
              "      <th></th>\n",
              "      <th></th>\n",
              "      <th></th>\n",
              "      <th></th>\n",
              "      <th></th>\n",
              "    </tr>\n",
              "  </thead>\n",
              "  <tbody>\n",
              "    <tr>\n",
              "      <th>406-6001380-7673107</th>\n",
              "      <td>05-31-22</td>\n",
              "      <td>Shipped</td>\n",
              "      <td>Amazon</td>\n",
              "      <td>Amazon.in</td>\n",
              "      <td>Expedited</td>\n",
              "      <td>JNE3697</td>\n",
              "      <td>JNE3697-KR-XL</td>\n",
              "      <td>kurta</td>\n",
              "      <td>XL</td>\n",
              "      <td>B098112V2V</td>\n",
              "      <td>...</td>\n",
              "      <td>1</td>\n",
              "      <td>INR</td>\n",
              "      <td>517.0</td>\n",
              "      <td>HYDERABAD</td>\n",
              "      <td>TELANGANA</td>\n",
              "      <td>500013.0</td>\n",
              "      <td>IN</td>\n",
              "      <td>NaN</td>\n",
              "      <td>False</td>\n",
              "      <td>NaN</td>\n",
              "    </tr>\n",
              "    <tr>\n",
              "      <th>402-9551604-7544318</th>\n",
              "      <td>05-31-22</td>\n",
              "      <td>Shipped</td>\n",
              "      <td>Amazon</td>\n",
              "      <td>Amazon.in</td>\n",
              "      <td>Expedited</td>\n",
              "      <td>SET401</td>\n",
              "      <td>SET401-KR-NP-M</td>\n",
              "      <td>Set</td>\n",
              "      <td>M</td>\n",
              "      <td>B09VC6KHX8</td>\n",
              "      <td>...</td>\n",
              "      <td>1</td>\n",
              "      <td>INR</td>\n",
              "      <td>999.0</td>\n",
              "      <td>GURUGRAM</td>\n",
              "      <td>HARYANA</td>\n",
              "      <td>122004.0</td>\n",
              "      <td>IN</td>\n",
              "      <td>IN Core Free Shipping 2015/04/08 23-48-5-108</td>\n",
              "      <td>False</td>\n",
              "      <td>NaN</td>\n",
              "    </tr>\n",
              "    <tr>\n",
              "      <th>407-9547469-3152358</th>\n",
              "      <td>05-31-22</td>\n",
              "      <td>Shipped</td>\n",
              "      <td>Amazon</td>\n",
              "      <td>Amazon.in</td>\n",
              "      <td>Expedited</td>\n",
              "      <td>J0157</td>\n",
              "      <td>J0157-DR-XXL</td>\n",
              "      <td>Western Dress</td>\n",
              "      <td>XXL</td>\n",
              "      <td>B0982YZ51B</td>\n",
              "      <td>...</td>\n",
              "      <td>1</td>\n",
              "      <td>INR</td>\n",
              "      <td>690.0</td>\n",
              "      <td>HYDERABAD</td>\n",
              "      <td>TELANGANA</td>\n",
              "      <td>500049.0</td>\n",
              "      <td>IN</td>\n",
              "      <td>NaN</td>\n",
              "      <td>False</td>\n",
              "      <td>NaN</td>\n",
              "    </tr>\n",
              "    <tr>\n",
              "      <th>402-6184140-0545956</th>\n",
              "      <td>05-31-22</td>\n",
              "      <td>Shipped</td>\n",
              "      <td>Amazon</td>\n",
              "      <td>Amazon.in</td>\n",
              "      <td>Expedited</td>\n",
              "      <td>J0012</td>\n",
              "      <td>J0012-SKD-XS</td>\n",
              "      <td>Set</td>\n",
              "      <td>XS</td>\n",
              "      <td>B0894Y2NJQ</td>\n",
              "      <td>...</td>\n",
              "      <td>1</td>\n",
              "      <td>INR</td>\n",
              "      <td>1199.0</td>\n",
              "      <td>Halol</td>\n",
              "      <td>Gujarat</td>\n",
              "      <td>389350.0</td>\n",
              "      <td>IN</td>\n",
              "      <td>IN Core Free Shipping 2015/04/08 23-48-5-108</td>\n",
              "      <td>False</td>\n",
              "      <td>NaN</td>\n",
              "    </tr>\n",
              "    <tr>\n",
              "      <th>408-7436540-8728312</th>\n",
              "      <td>05-31-22</td>\n",
              "      <td>Shipped</td>\n",
              "      <td>Amazon</td>\n",
              "      <td>Amazon.in</td>\n",
              "      <td>Expedited</td>\n",
              "      <td>J0003</td>\n",
              "      <td>J0003-SET-S</td>\n",
              "      <td>Set</td>\n",
              "      <td>S</td>\n",
              "      <td>B0894X27FC</td>\n",
              "      <td>...</td>\n",
              "      <td>1</td>\n",
              "      <td>INR</td>\n",
              "      <td>696.0</td>\n",
              "      <td>Raipur</td>\n",
              "      <td>CHHATTISGARH</td>\n",
              "      <td>492014.0</td>\n",
              "      <td>IN</td>\n",
              "      <td>IN Core Free Shipping 2015/04/08 23-48-5-108</td>\n",
              "      <td>False</td>\n",
              "      <td>NaN</td>\n",
              "    </tr>\n",
              "  </tbody>\n",
              "</table>\n",
              "<p>5 rows × 21 columns</p>\n",
              "</div>\n",
              "    <div class=\"colab-df-buttons\">\n",
              "\n",
              "  <div class=\"colab-df-container\">\n",
              "    <button class=\"colab-df-convert\" onclick=\"convertToInteractive('df-3325815a-56c2-433f-ba0a-59b7bf8910a7')\"\n",
              "            title=\"Convert this dataframe to an interactive table.\"\n",
              "            style=\"display:none;\">\n",
              "\n",
              "  <svg xmlns=\"http://www.w3.org/2000/svg\" height=\"24px\" viewBox=\"0 -960 960 960\">\n",
              "    <path d=\"M120-120v-720h720v720H120Zm60-500h600v-160H180v160Zm220 220h160v-160H400v160Zm0 220h160v-160H400v160ZM180-400h160v-160H180v160Zm440 0h160v-160H620v160ZM180-180h160v-160H180v160Zm440 0h160v-160H620v160Z\"/>\n",
              "  </svg>\n",
              "    </button>\n",
              "\n",
              "  <style>\n",
              "    .colab-df-container {\n",
              "      display:flex;\n",
              "      gap: 12px;\n",
              "    }\n",
              "\n",
              "    .colab-df-convert {\n",
              "      background-color: #E8F0FE;\n",
              "      border: none;\n",
              "      border-radius: 50%;\n",
              "      cursor: pointer;\n",
              "      display: none;\n",
              "      fill: #1967D2;\n",
              "      height: 32px;\n",
              "      padding: 0 0 0 0;\n",
              "      width: 32px;\n",
              "    }\n",
              "\n",
              "    .colab-df-convert:hover {\n",
              "      background-color: #E2EBFA;\n",
              "      box-shadow: 0px 1px 2px rgba(60, 64, 67, 0.3), 0px 1px 3px 1px rgba(60, 64, 67, 0.15);\n",
              "      fill: #174EA6;\n",
              "    }\n",
              "\n",
              "    .colab-df-buttons div {\n",
              "      margin-bottom: 4px;\n",
              "    }\n",
              "\n",
              "    [theme=dark] .colab-df-convert {\n",
              "      background-color: #3B4455;\n",
              "      fill: #D2E3FC;\n",
              "    }\n",
              "\n",
              "    [theme=dark] .colab-df-convert:hover {\n",
              "      background-color: #434B5C;\n",
              "      box-shadow: 0px 1px 3px 1px rgba(0, 0, 0, 0.15);\n",
              "      filter: drop-shadow(0px 1px 2px rgba(0, 0, 0, 0.3));\n",
              "      fill: #FFFFFF;\n",
              "    }\n",
              "  </style>\n",
              "\n",
              "    <script>\n",
              "      const buttonEl =\n",
              "        document.querySelector('#df-3325815a-56c2-433f-ba0a-59b7bf8910a7 button.colab-df-convert');\n",
              "      buttonEl.style.display =\n",
              "        google.colab.kernel.accessAllowed ? 'block' : 'none';\n",
              "\n",
              "      async function convertToInteractive(key) {\n",
              "        const element = document.querySelector('#df-3325815a-56c2-433f-ba0a-59b7bf8910a7');\n",
              "        const dataTable =\n",
              "          await google.colab.kernel.invokeFunction('convertToInteractive',\n",
              "                                                    [key], {});\n",
              "        if (!dataTable) return;\n",
              "\n",
              "        const docLinkHtml = 'Like what you see? Visit the ' +\n",
              "          '<a target=\"_blank\" href=https://colab.research.google.com/notebooks/data_table.ipynb>data table notebook</a>'\n",
              "          + ' to learn more about interactive tables.';\n",
              "        element.innerHTML = '';\n",
              "        dataTable['output_type'] = 'display_data';\n",
              "        await google.colab.output.renderOutput(dataTable, element);\n",
              "        const docLink = document.createElement('div');\n",
              "        docLink.innerHTML = docLinkHtml;\n",
              "        element.appendChild(docLink);\n",
              "      }\n",
              "    </script>\n",
              "  </div>\n",
              "\n",
              "\n",
              "<div id=\"df-6147a554-5420-4527-9f2a-e5f2d799f9c0\">\n",
              "  <button class=\"colab-df-quickchart\" onclick=\"quickchart('df-6147a554-5420-4527-9f2a-e5f2d799f9c0')\"\n",
              "            title=\"Suggest charts\"\n",
              "            style=\"display:none;\">\n",
              "\n",
              "<svg xmlns=\"http://www.w3.org/2000/svg\" height=\"24px\"viewBox=\"0 0 24 24\"\n",
              "     width=\"24px\">\n",
              "    <g>\n",
              "        <path d=\"M19 3H5c-1.1 0-2 .9-2 2v14c0 1.1.9 2 2 2h14c1.1 0 2-.9 2-2V5c0-1.1-.9-2-2-2zM9 17H7v-7h2v7zm4 0h-2V7h2v10zm4 0h-2v-4h2v4z\"/>\n",
              "    </g>\n",
              "</svg>\n",
              "  </button>\n",
              "\n",
              "<style>\n",
              "  .colab-df-quickchart {\n",
              "      --bg-color: #E8F0FE;\n",
              "      --fill-color: #1967D2;\n",
              "      --hover-bg-color: #E2EBFA;\n",
              "      --hover-fill-color: #174EA6;\n",
              "      --disabled-fill-color: #AAA;\n",
              "      --disabled-bg-color: #DDD;\n",
              "  }\n",
              "\n",
              "  [theme=dark] .colab-df-quickchart {\n",
              "      --bg-color: #3B4455;\n",
              "      --fill-color: #D2E3FC;\n",
              "      --hover-bg-color: #434B5C;\n",
              "      --hover-fill-color: #FFFFFF;\n",
              "      --disabled-bg-color: #3B4455;\n",
              "      --disabled-fill-color: #666;\n",
              "  }\n",
              "\n",
              "  .colab-df-quickchart {\n",
              "    background-color: var(--bg-color);\n",
              "    border: none;\n",
              "    border-radius: 50%;\n",
              "    cursor: pointer;\n",
              "    display: none;\n",
              "    fill: var(--fill-color);\n",
              "    height: 32px;\n",
              "    padding: 0;\n",
              "    width: 32px;\n",
              "  }\n",
              "\n",
              "  .colab-df-quickchart:hover {\n",
              "    background-color: var(--hover-bg-color);\n",
              "    box-shadow: 0 1px 2px rgba(60, 64, 67, 0.3), 0 1px 3px 1px rgba(60, 64, 67, 0.15);\n",
              "    fill: var(--button-hover-fill-color);\n",
              "  }\n",
              "\n",
              "  .colab-df-quickchart-complete:disabled,\n",
              "  .colab-df-quickchart-complete:disabled:hover {\n",
              "    background-color: var(--disabled-bg-color);\n",
              "    fill: var(--disabled-fill-color);\n",
              "    box-shadow: none;\n",
              "  }\n",
              "\n",
              "  .colab-df-spinner {\n",
              "    border: 2px solid var(--fill-color);\n",
              "    border-color: transparent;\n",
              "    border-bottom-color: var(--fill-color);\n",
              "    animation:\n",
              "      spin 1s steps(1) infinite;\n",
              "  }\n",
              "\n",
              "  @keyframes spin {\n",
              "    0% {\n",
              "      border-color: transparent;\n",
              "      border-bottom-color: var(--fill-color);\n",
              "      border-left-color: var(--fill-color);\n",
              "    }\n",
              "    20% {\n",
              "      border-color: transparent;\n",
              "      border-left-color: var(--fill-color);\n",
              "      border-top-color: var(--fill-color);\n",
              "    }\n",
              "    30% {\n",
              "      border-color: transparent;\n",
              "      border-left-color: var(--fill-color);\n",
              "      border-top-color: var(--fill-color);\n",
              "      border-right-color: var(--fill-color);\n",
              "    }\n",
              "    40% {\n",
              "      border-color: transparent;\n",
              "      border-right-color: var(--fill-color);\n",
              "      border-top-color: var(--fill-color);\n",
              "    }\n",
              "    60% {\n",
              "      border-color: transparent;\n",
              "      border-right-color: var(--fill-color);\n",
              "    }\n",
              "    80% {\n",
              "      border-color: transparent;\n",
              "      border-right-color: var(--fill-color);\n",
              "      border-bottom-color: var(--fill-color);\n",
              "    }\n",
              "    90% {\n",
              "      border-color: transparent;\n",
              "      border-bottom-color: var(--fill-color);\n",
              "    }\n",
              "  }\n",
              "</style>\n",
              "\n",
              "  <script>\n",
              "    async function quickchart(key) {\n",
              "      const quickchartButtonEl =\n",
              "        document.querySelector('#' + key + ' button');\n",
              "      quickchartButtonEl.disabled = true;  // To prevent multiple clicks.\n",
              "      quickchartButtonEl.classList.add('colab-df-spinner');\n",
              "      try {\n",
              "        const charts = await google.colab.kernel.invokeFunction(\n",
              "            'suggestCharts', [key], {});\n",
              "      } catch (error) {\n",
              "        console.error('Error during call to suggestCharts:', error);\n",
              "      }\n",
              "      quickchartButtonEl.classList.remove('colab-df-spinner');\n",
              "      quickchartButtonEl.classList.add('colab-df-quickchart-complete');\n",
              "    }\n",
              "    (() => {\n",
              "      let quickchartButtonEl =\n",
              "        document.querySelector('#df-6147a554-5420-4527-9f2a-e5f2d799f9c0 button');\n",
              "      quickchartButtonEl.style.display =\n",
              "        google.colab.kernel.accessAllowed ? 'block' : 'none';\n",
              "    })();\n",
              "  </script>\n",
              "</div>\n",
              "\n",
              "    </div>\n",
              "  </div>\n"
            ],
            "application/vnd.google.colaboratory.intrinsic+json": {
              "type": "dataframe"
            }
          },
          "metadata": {},
          "execution_count": 4
        }
      ]
    },
    {
      "cell_type": "code",
      "source": [
        "sales_report_df['B2B'].value_counts().plot(kind='bar', figsize=(8, 6))\n",
        "plt.xlabel(\" B2B Category\", labelpad=14)\n",
        "plt.ylabel(\"Count\", labelpad=14)\n",
        "plt.title(\"Count of B2B Category\", y=1.02);"
      ],
      "metadata": {
        "colab": {
          "base_uri": "https://localhost:8080/",
          "height": 608
        },
        "id": "IQpks7UL4R9a",
        "outputId": "99120965-63cd-4f78-d9aa-4e7a0cbbad52"
      },
      "execution_count": null,
      "outputs": [
        {
          "output_type": "display_data",
          "data": {
            "text/plain": [
              "<Figure size 800x600 with 1 Axes>"
            ],
            "image/png": "[encoded data removed]"
          },
          "metadata": {}
        }
      ]
    },
    {
      "cell_type": "code",
      "source": [
        "100*sales_report_df['B2B'].value_counts()/len(sales_report_df['B2B'])"
      ],
      "metadata": {
        "colab": {
          "base_uri": "https://localhost:8080/"
        },
        "id": "AqkLqr9Z4nBs",
        "outputId": "bc7ce558-a635-40ee-be06-d148e6cb4709"
      },
      "execution_count": null,
      "outputs": [
        {
          "output_type": "execute_result",
          "data": {
            "text/plain": [
              "B2B\n",
              "False    99.324675\n",
              "True      0.675325\n",
              "Name: count, dtype: float64"
            ]
          },
          "metadata": {},
          "execution_count": 6
        }
      ]
    },
    {
      "cell_type": "markdown",
      "source": [
        "Data is highly inbalanced we can see more than 99% of orders are B2C"
      ],
      "metadata": {
        "id": "4NioxJr-4tUH"
      }
    },
    {
      "cell_type": "code",
      "source": [
        "sales_report_df.isnull().mean()"
      ],
      "metadata": {
        "colab": {
          "base_uri": "https://localhost:8080/"
        },
        "id": "aXiLYYF74m6L",
        "outputId": "c5c2a6f2-20f9-41b3-9348-519c7bdb6d0d"
      },
      "execution_count": null,
      "outputs": [
        {
          "output_type": "execute_result",
          "data": {
            "text/plain": [
              "Date                  0.000000\n",
              "Status                0.000000\n",
              "Fulfilment            0.000000\n",
              "Sales Channel         0.000000\n",
              "ship-service-level    0.000000\n",
              "Style                 0.000000\n",
              "SKU                   0.000000\n",
              "Category              0.000000\n",
              "Size                  0.000000\n",
              "ASIN                  0.000000\n",
              "Courier Status        0.053282\n",
              "Qty                   0.000000\n",
              "currency              0.000000\n",
              "Amount                0.060438\n",
              "ship-city             0.000256\n",
              "ship-state            0.000256\n",
              "ship-postal-code      0.000256\n",
              "ship-country          0.000256\n",
              "B2B                   0.000000\n",
              "dtype: float64"
            ]
          },
          "metadata": {},
          "execution_count": 16
        }
      ]
    },
    {
      "cell_type": "markdown",
      "source": [
        "Date should be datetime. Let's convert it into datetime data type.\n",
        "ship-postal-code to be in category but it is in float64."
      ],
      "metadata": {
        "id": "_ah3hPB1_HvW"
      }
    },
    {
      "cell_type": "code",
      "source": [
        "sales_report_df['Date'] = pd.to_datetime(sales_report_df['Date'])\n",
        "sales_report_df['ship-postal-code'] = sales_report_df['ship-postal-code'].astype('category')"
      ],
      "metadata": {
        "colab": {
          "base_uri": "https://localhost:8080/"
        },
        "id": "FnuVcYRE4m3S",
        "outputId": "7a855e33-3447-4ad4-b458-d1fc2d9ecad8"
      },
      "execution_count": null,
      "outputs": [
        {
          "output_type": "stream",
          "name": "stderr",
          "text": [
            "<ipython-input-6-11a722d9d20c>:1: UserWarning: Could not infer format, so each element will be parsed individually, falling back to `dateutil`. To ensure parsing is consistent and as-expected, please specify a format.\n",
            "  sales_report_df['Date'] = pd.to_datetime(sales_report_df['Date'])\n"
          ]
        }
      ]
    },
    {
      "cell_type": "code",
      "source": [
        "missing = pd.DataFrame((sales_report_df.isnull().sum())*100/sales_report_df.shape[0]).reset_index()\n",
        "plt.figure(figsize=(16,5))\n",
        "ax = sns.pointplot(x = 'index',y = 0,data=missing)\n",
        "plt.xticks(rotation =90,fontsize =7)\n",
        "plt.title(\"Percentage of Missing values\")\n",
        "plt.ylabel(\"PERCENTAGE\")\n",
        "plt.show()"
      ],
      "metadata": {
        "colab": {
          "base_uri": "https://localhost:8080/",
          "height": 549
        },
        "id": "LcFRatRH4m-a",
        "outputId": "75fa3c78-ce8f-4932-98a2-af330d421a3d"
      },
      "execution_count": null,
      "outputs": [
        {
          "output_type": "display_data",
          "data": {
            "text/plain": [
              "<Figure size 1600x500 with 1 Axes>"
            ],
            "image/png": "[encoded data removed]"
          },
          "metadata": {}
        }
      ]
    },
    {
      "cell_type": "markdown",
      "source": [
        "The amount of missing values are more in fulfilled by variable which is about 70 % and 40%in promotion ids . so its better we drop out both. in the case of fulfilled by there is only one entry'easy ship'.so dropping out doesnt matter. promotion ids can also be removed\n"
      ],
      "metadata": {
        "id": "ekrl1oEP8N5n"
      }
    },
    {
      "cell_type": "code",
      "source": [
        "sales_report_df.drop(columns=['promotion-ids'], inplace=True)"
      ],
      "metadata": {
        "id": "6ZPNCT8HBq3f"
      },
      "execution_count": null,
      "outputs": []
    },
    {
      "cell_type": "code",
      "source": [
        "sales_report_df.drop(columns=['fulfilled-by'], inplace=True)"
      ],
      "metadata": {
        "id": "NcvNXIx4Jdn9"
      },
      "execution_count": null,
      "outputs": []
    },
    {
      "cell_type": "code",
      "source": [
        "missing = pd.DataFrame((sales_report_df.isnull().sum())*100/sales_report_df.shape[0]).reset_index()\n",
        "plt.figure(figsize=(16,5))\n",
        "ax = sns.pointplot(x = 'index',y = 0,data=missing)\n",
        "plt.xticks(rotation =90,fontsize =7)\n",
        "plt.title(\"Percentage of Missing values\")\n",
        "plt.ylabel(\"PERCENTAGE\")\n",
        "plt.show()"
      ],
      "metadata": {
        "colab": {
          "base_uri": "https://localhost:8080/",
          "height": 552
        },
        "id": "LjwCLdrIJtCW",
        "outputId": "663ebaf4-54a1-4f1c-cceb-9d1c0805b2e3"
      },
      "execution_count": null,
      "outputs": [
        {
          "output_type": "display_data",
          "data": {
            "text/plain": [
              "<Figure size 1600x500 with 1 Axes>"
            ],
            "image/png": "[encoded data removed]"
          },
          "metadata": {}
        }
      ]
    },
    {
      "cell_type": "markdown",
      "source": [
        "now we have to deal with missing values of courier status and amount"
      ],
      "metadata": {
        "id": "Qd0Ubk2YJwaP"
      }
    },
    {
      "cell_type": "code",
      "source": [
        "# now check the null value\n",
        "sales_report_df.isnull().sum().sort_values(ascending=False)"
      ],
      "metadata": {
        "colab": {
          "base_uri": "https://localhost:8080/"
        },
        "id": "4OMmtDAB4m04",
        "outputId": "79e7f441-4ff1-4f10-90cf-9038ea1d5f32"
      },
      "execution_count": null,
      "outputs": [
        {
          "output_type": "execute_result",
          "data": {
            "text/plain": [
              "Amount                7795\n",
              "Courier Status        6872\n",
              "ship-country            33\n",
              "ship-postal-code        33\n",
              "ship-state              33\n",
              "ship-city               33\n",
              "Date                     0\n",
              "currency                 0\n",
              "Qty                      0\n",
              "ASIN                     0\n",
              "Status                   0\n",
              "Size                     0\n",
              "Category                 0\n",
              "SKU                      0\n",
              "Style                    0\n",
              "ship-service-level       0\n",
              "Sales Channel            0\n",
              "Fulfilment               0\n",
              "B2B                      0\n",
              "dtype: int64"
            ]
          },
          "metadata": {},
          "execution_count": 11
        }
      ]
    },
    {
      "cell_type": "code",
      "source": [
        "sales_report_df.loc[sales_report_df['Status'] == 'Cancelled', 'Amount'] = 0"
      ],
      "metadata": {
        "id": "G5LSX5Cr4mzI"
      },
      "execution_count": null,
      "outputs": []
    },
    {
      "cell_type": "code",
      "source": [
        "sales_report_df.isnull().sum().sort_values(ascending=False)"
      ],
      "metadata": {
        "id": "l-nrWOtB4mww",
        "colab": {
          "base_uri": "https://localhost:8080/"
        },
        "outputId": "d726295c-6907-4e3e-a748-507605adceda"
      },
      "execution_count": null,
      "outputs": [
        {
          "output_type": "execute_result",
          "data": {
            "text/plain": [
              "Courier Status        6872\n",
              "Amount                 229\n",
              "ship-country            33\n",
              "ship-postal-code        33\n",
              "ship-state              33\n",
              "ship-city               33\n",
              "Date                     0\n",
              "currency                 0\n",
              "Qty                      0\n",
              "ASIN                     0\n",
              "Status                   0\n",
              "Size                     0\n",
              "Category                 0\n",
              "SKU                      0\n",
              "Style                    0\n",
              "ship-service-level       0\n",
              "Sales Channel            0\n",
              "Fulfilment               0\n",
              "B2B                      0\n",
              "dtype: int64"
            ]
          },
          "metadata": {},
          "execution_count": 13
        }
      ]
    },
    {
      "cell_type": "markdown",
      "source": [
        "replace missing values in courier status with mode\n",
        "replace amount with mean"
      ],
      "metadata": {
        "id": "OQ1Yred0R3J1"
      }
    },
    {
      "cell_type": "code",
      "source": [
        "# Replace missing values in 'courier status' with the mode\n",
        "courier_status_mode = sales_report_df['Courier Status'].mode()[0]\n",
        "sales_report_df['Courier Status'].fillna(courier_status_mode, inplace=True)\n",
        "\n",
        "# Replace missing values in 'amount' with the mean\n",
        "amount_mean = sales_report_df['Amount'].mean()\n",
        "sales_report_df['Amount'].fillna(amount_mean, inplace=True)\n",
        "\n",
        "# Verify the replacements\n",
        "print(\"Missing values after replacement:\")\n",
        "print(sales_report_df.isna().sum())"
      ],
      "metadata": {
        "id": "K40opzZG4mtv",
        "colab": {
          "base_uri": "https://localhost:8080/"
        },
        "outputId": "49cc491b-fddd-46c2-9197-efa36dccfaf2"
      },
      "execution_count": null,
      "outputs": [
        {
          "output_type": "stream",
          "name": "stdout",
          "text": [
            "Missing values after replacement:\n",
            "Date                   0\n",
            "Status                 0\n",
            "Fulfilment             0\n",
            "Sales Channel          0\n",
            "ship-service-level     0\n",
            "Style                  0\n",
            "SKU                    0\n",
            "Category               0\n",
            "Size                   0\n",
            "ASIN                   0\n",
            "Courier Status         0\n",
            "Qty                    0\n",
            "currency               0\n",
            "Amount                 0\n",
            "ship-city             33\n",
            "ship-state            33\n",
            "ship-postal-code      33\n",
            "ship-country          33\n",
            "B2B                    0\n",
            "dtype: int64\n"
          ]
        }
      ]
    },
    {
      "cell_type": "code",
      "source": [
        "missing = pd.DataFrame((sales_report_df.isnull().sum())*100/sales_report_df.shape[0]).reset_index()\n",
        "plt.figure(figsize=(16,5))\n",
        "ax = sns.pointplot(x = 'index',y = 0,data=missing)\n",
        "plt.xticks(rotation =90,fontsize =7)\n",
        "plt.title(\"Percentage of Missing values\")\n",
        "plt.ylabel(\"PERCENTAGE\")\n",
        "plt.show()"
      ],
      "metadata": {
        "id": "Ne3h3IvK4mqh",
        "colab": {
          "base_uri": "https://localhost:8080/",
          "height": 540
        },
        "outputId": "dfd85424-4ffc-4205-a691-99f8faa755d3"
      },
      "execution_count": null,
      "outputs": [
        {
          "output_type": "display_data",
          "data": {
            "text/plain": [
              "<Figure size 1600x500 with 1 Axes>"
            ],
            "image/png": "[encoded data removed]"
          },
          "metadata": {}
        }
      ]
    },
    {
      "cell_type": "markdown",
      "source": [
        "there are 33 rows in which the address details are missing . the  percentage of these rows are very small when compared to the dataset .hence removed those rows\n"
      ],
      "metadata": {
        "id": "zoKZlhkMUJ1w"
      }
    },
    {
      "cell_type": "code",
      "source": [
        "sales_report_df.dropna(subset=['ship-country'], inplace=True)"
      ],
      "metadata": {
        "id": "b7QF3Spl4mo-"
      },
      "execution_count": null,
      "outputs": []
    },
    {
      "cell_type": "code",
      "source": [
        "sales_report_df.isnull().sum().sort_values(ascending=False)"
      ],
      "metadata": {
        "colab": {
          "base_uri": "https://localhost:8080/"
        },
        "id": "88Dw6JawUFZh",
        "outputId": "7b75d283-701a-41d4-f996-1015b5a40820"
      },
      "execution_count": null,
      "outputs": [
        {
          "output_type": "execute_result",
          "data": {
            "text/plain": [
              "Date                  0\n",
              "Courier Status        0\n",
              "ship-country          0\n",
              "ship-postal-code      0\n",
              "ship-state            0\n",
              "ship-city             0\n",
              "Amount                0\n",
              "currency              0\n",
              "Qty                   0\n",
              "ASIN                  0\n",
              "Status                0\n",
              "Size                  0\n",
              "Category              0\n",
              "SKU                   0\n",
              "Style                 0\n",
              "ship-service-level    0\n",
              "Sales Channel         0\n",
              "Fulfilment            0\n",
              "B2B                   0\n",
              "dtype: int64"
            ]
          },
          "metadata": {},
          "execution_count": 17
        }
      ]
    },
    {
      "cell_type": "markdown",
      "source": [
        "data cleaning is done"
      ],
      "metadata": {
        "id": "SRIGRyR8UHP8"
      }
    },
    {
      "cell_type": "markdown",
      "source": [
        "exporting the data frame into a csv\n"
      ],
      "metadata": {
        "id": "X426gMbVU9i-"
      }
    },
    {
      "cell_type": "code",
      "source": [
        "sales_report_df.to_csv('imputed amazon sales report csv.csv')"
      ],
      "metadata": {
        "id": "XMyRxUCJUe5S"
      },
      "execution_count": null,
      "outputs": []
    }
  ]
}